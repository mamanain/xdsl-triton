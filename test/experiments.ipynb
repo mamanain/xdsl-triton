{
 "cells": [
  {
   "cell_type": "code",
   "execution_count": 1,
   "metadata": {},
   "outputs": [],
   "source": [
    "import torch\n",
    "import triton\n",
    "import triton.language as tl\n",
    "\n",
    "DEVICE = 'cuda'"
   ]
  },
  {
   "cell_type": "code",
   "execution_count": 2,
   "metadata": {},
   "outputs": [],
   "source": [
    "@triton.jit\n",
    "def scalar_mult_duplicate(x_ptr, output_ptr, n_elements, BLOCK_SIZE: tl.constexpr):\n",
    "    pid = tl.program_id(axis=0)\n",
    "    block_start = pid * BLOCK_SIZE\n",
    "    offsets = block_start + tl.arange(0, BLOCK_SIZE)\n",
    "    mask = offsets < n_elements\n",
    "\n",
    "    x = tl.load(x_ptr + offsets, mask=mask).reshape([1, BLOCK_SIZE]).broadcast_to(2, BLOCK_SIZE)\n",
    "    output = 4 * x\n",
    "\n",
    "    first_row_idx = block_start + tl.arange(0, BLOCK_SIZE)\n",
    "    second_row_idx = block_start + tl.arange(0, BLOCK_SIZE) + n_elements\n",
    "    first_row_mask = first_row_idx < n_elements\n",
    "    second_row_mask = second_row_idx < (n_elements * 2)\n",
    "\n",
    "    broadcasted_offsets = tl.trans(tl.join(first_row_idx, second_row_idx))\n",
    "    broadcasted_mask = tl.trans(tl.join(first_row_mask, second_row_mask))\n",
    "\n",
    "    tl.store(output_ptr + broadcasted_offsets, output, mask=broadcasted_mask)"
   ]
  },
  {
   "cell_type": "code",
   "execution_count": 3,
   "metadata": {},
   "outputs": [],
   "source": [
    "def mult(x: torch.Tensor):\n",
    "    output = torch.empty([2, x.shape[0]], device=DEVICE)\n",
    "    n_elements = x.numel()\n",
    "    grid = lambda meta: (triton.cdiv(n_elements, meta['BLOCK_SIZE']), )\n",
    "    scalar_mult_duplicate[grid](x, output, n_elements, BLOCK_SIZE=1024)\n",
    "    return output"
   ]
  },
  {
   "cell_type": "code",
   "execution_count": 4,
   "metadata": {},
   "outputs": [],
   "source": [
    "!rm -rf dump.txt"
   ]
  },
  {
   "cell_type": "code",
   "execution_count": 5,
   "metadata": {},
   "outputs": [
    {
     "name": "stdout",
     "output_type": "stream",
     "text": [
      "env: MLIR_ENABLE_DUMP=1\n",
      "env: MLIR_DUMP_PATH=dump.txt\n"
     ]
    },
    {
     "name": "stdout",
     "output_type": "stream",
     "text": [
      "tensor([[1.5962, 2.0667, 0.0997,  ..., 0.1694, 2.0397, 2.9107],\n",
      "        [1.5962, 2.0667, 0.0997,  ..., 0.1694, 2.0397, 2.9107]],\n",
      "       device='cuda:0')\n",
      "tensor([[1.5962, 2.0667, 0.0997,  ..., 0.1694, 2.0397, 2.9107],\n",
      "        [1.5962, 2.0667, 0.0997,  ..., 0.1694, 2.0397, 2.9107]],\n",
      "       device='cuda:0')\n",
      "The maximum difference between torch and triton is 0.0\n"
     ]
    }
   ],
   "source": [
    "%env MLIR_ENABLE_DUMP=1\n",
    "%env MLIR_DUMP_PATH=dump.txt\n",
    "!rm -rf ~/.triton\n",
    "\n",
    "torch.manual_seed(0)\n",
    "size = 98432\n",
    "x = torch.rand(size, device=DEVICE)\n",
    "output_torch = 4 * x.broadcast_to([2, size])\n",
    "output_triton = mult(x)\n",
    "print(output_torch)\n",
    "print(output_triton)\n",
    "print(f'The maximum difference between torch and triton is '\n",
    "      f'{torch.max(torch.abs(output_torch - output_triton))}')"
   ]
  }
 ],
 "metadata": {
  "kernelspec": {
   "display_name": ".venv",
   "language": "python",
   "name": "python3"
  },
  "language_info": {
   "codemirror_mode": {
    "name": "ipython",
    "version": 3
   },
   "file_extension": ".py",
   "mimetype": "text/x-python",
   "name": "python",
   "nbconvert_exporter": "python",
   "pygments_lexer": "ipython3",
   "version": "3.10.12"
  }
 },
 "nbformat": 4,
 "nbformat_minor": 2
}
